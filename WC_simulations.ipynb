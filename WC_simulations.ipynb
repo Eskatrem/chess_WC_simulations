{
 "cells": [
  {
   "cell_type": "code",
   "execution_count": 17,
   "metadata": {},
   "outputs": [],
   "source": [
    "from random import uniform\n",
    "\n",
    "def outcome(x):\n",
    "    if x < 0.4:\n",
    "        return \"M\"\n",
    "    if x < 0.70: \n",
    "        return \"F\"\n",
    "    return \"D\"\n",
    "\n",
    "def one_sim():\n",
    "    sim = [outcome(uniform(0, 1)) for k in range(4)]\n",
    "    ms = len([x for x in sim if x == \"M\"])\n",
    "    fs = len([x for x in sim if x == \"F\"])\n",
    "    if ms > fs:\n",
    "        return \"M\"\n",
    "    if ms < fs:\n",
    "        return \"F\"\n",
    "    return \"D\"\n",
    "\n",
    "def simulations(nsims):\n",
    "    sims = [one_sim() for k in range(nsims)]\n",
    "    ms = len([x for x in sims if x == \"M\"])\n",
    "    fs = len([x for x in sims if x == \"F\"])\n",
    "    ds = nsims - (ms + fs)\n",
    "    return ms, fs, ds\n"
   ]
  },
  {
   "cell_type": "code",
   "execution_count": 18,
   "metadata": {},
   "outputs": [
    {
     "data": {
      "text/plain": [
       "(4855, 2957, 2188)"
      ]
     },
     "execution_count": 18,
     "metadata": {},
     "output_type": "execute_result"
    }
   ],
   "source": [
    "simulations(10000)"
   ]
  }
 ],
 "metadata": {
  "kernelspec": {
   "display_name": "Python 2",
   "language": "python",
   "name": "python2"
  },
  "language_info": {
   "codemirror_mode": {
    "name": "ipython",
    "version": 2
   },
   "file_extension": ".py",
   "mimetype": "text/x-python",
   "name": "python",
   "nbconvert_exporter": "python",
   "pygments_lexer": "ipython2",
   "version": "2.7.15rc1"
  }
 },
 "nbformat": 4,
 "nbformat_minor": 2
}
